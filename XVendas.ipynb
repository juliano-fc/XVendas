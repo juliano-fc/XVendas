{
 "cells": [
  {
   "cell_type": "markdown",
   "metadata": {},
   "source": [
    "#### No último ano, o XVendas apresentou perda gradual na rentabilidade. Sabe-se que o volume de vendas permaneceu estável durante o período.\n",
    "\n",
    "#### O que pode ser a causa desse comportamento?"
   ]
  },
  {
   "cell_type": "code",
   "execution_count": 33,
   "metadata": {},
   "outputs": [],
   "source": [
    "import pandas as pd\n",
    "import numpy as np\n",
    "import matplotlib.pyplot as plt\n",
    "data = pd.read_excel(\"Case_Analista_Intelligence.xlsx\")"
   ]
  },
  {
   "cell_type": "code",
   "execution_count": 34,
   "metadata": {},
   "outputs": [
    {
     "data": {
      "text/html": [
       "<div>\n",
       "<style scoped>\n",
       "    .dataframe tbody tr th:only-of-type {\n",
       "        vertical-align: middle;\n",
       "    }\n",
       "\n",
       "    .dataframe tbody tr th {\n",
       "        vertical-align: top;\n",
       "    }\n",
       "\n",
       "    .dataframe thead th {\n",
       "        text-align: right;\n",
       "    }\n",
       "</style>\n",
       "<table border=\"1\" class=\"dataframe\">\n",
       "  <thead>\n",
       "    <tr style=\"text-align: right;\">\n",
       "      <th></th>\n",
       "      <th>Mês</th>\n",
       "      <th>Categoria</th>\n",
       "      <th>Custo Entrega</th>\n",
       "      <th>Custo dos Produtos</th>\n",
       "      <th>Custo Marketing</th>\n",
       "    </tr>\n",
       "  </thead>\n",
       "  <tbody>\n",
       "    <tr>\n",
       "      <th>0</th>\n",
       "      <td>1</td>\n",
       "      <td>AC AUDIO</td>\n",
       "      <td>80353.50458</td>\n",
       "      <td>36247.578746</td>\n",
       "      <td>11352.354514</td>\n",
       "    </tr>\n",
       "    <tr>\n",
       "      <th>1</th>\n",
       "      <td>1</td>\n",
       "      <td>AC BT SPEAKER</td>\n",
       "      <td>45448.46538</td>\n",
       "      <td>82168.278219</td>\n",
       "      <td>19423.724235</td>\n",
       "    </tr>\n",
       "    <tr>\n",
       "      <th>2</th>\n",
       "      <td>1</td>\n",
       "      <td>AC CALCULADORA</td>\n",
       "      <td>2253.74290</td>\n",
       "      <td>3309.124869</td>\n",
       "      <td>813.303043</td>\n",
       "    </tr>\n",
       "    <tr>\n",
       "      <th>3</th>\n",
       "      <td>1</td>\n",
       "      <td>AC CELULARES</td>\n",
       "      <td>22829.13170</td>\n",
       "      <td>18308.656441</td>\n",
       "      <td>5471.035672</td>\n",
       "    </tr>\n",
       "    <tr>\n",
       "      <th>4</th>\n",
       "      <td>1</td>\n",
       "      <td>AC ELETRODOMESTICO</td>\n",
       "      <td>432.07736</td>\n",
       "      <td>76.286501</td>\n",
       "      <td>33.111653</td>\n",
       "    </tr>\n",
       "  </tbody>\n",
       "</table>\n",
       "</div>"
      ],
      "text/plain": [
       "   Mês           Categoria  Custo Entrega  Custo dos Produtos  Custo Marketing\n",
       "0    1            AC AUDIO    80353.50458        36247.578746     11352.354514\n",
       "1    1       AC BT SPEAKER    45448.46538        82168.278219     19423.724235\n",
       "2    1      AC CALCULADORA     2253.74290         3309.124869       813.303043\n",
       "3    1        AC CELULARES    22829.13170        18308.656441      5471.035672\n",
       "4    1  AC ELETRODOMESTICO      432.07736           76.286501        33.111653"
      ]
     },
     "execution_count": 34,
     "metadata": {},
     "output_type": "execute_result"
    }
   ],
   "source": [
    "data.head()"
   ]
  },
  {
   "cell_type": "markdown",
   "metadata": {},
   "source": [
    "#### Análise exploratória e limpeza dos dados "
   ]
  },
  {
   "cell_type": "code",
   "execution_count": 35,
   "metadata": {},
   "outputs": [
    {
     "data": {
      "text/plain": [
       "Mês                   0\n",
       "Categoria             0\n",
       "Custo Entrega         0\n",
       "Custo dos Produtos    0\n",
       "Custo Marketing       0\n",
       "dtype: int64"
      ]
     },
     "execution_count": 35,
     "metadata": {},
     "output_type": "execute_result"
    }
   ],
   "source": [
    "# Varificando valores nulos \n",
    "data.isnull().sum()"
   ]
  },
  {
   "cell_type": "code",
   "execution_count": 36,
   "metadata": {},
   "outputs": [
    {
     "data": {
      "text/plain": [
       "0"
      ]
     },
     "execution_count": 36,
     "metadata": {},
     "output_type": "execute_result"
    }
   ],
   "source": [
    "# Chacando se há valores duplicados \n",
    "data.duplicated().sum()"
   ]
  },
  {
   "cell_type": "code",
   "execution_count": 37,
   "metadata": {},
   "outputs": [
    {
     "name": "stdout",
     "output_type": "stream",
     "text": [
      "<class 'pandas.core.frame.DataFrame'>\n",
      "RangeIndex: 3521 entries, 0 to 3520\n",
      "Data columns (total 5 columns):\n",
      " #   Column              Non-Null Count  Dtype  \n",
      "---  ------              --------------  -----  \n",
      " 0   Mês                 3521 non-null   int64  \n",
      " 1   Categoria           3521 non-null   object \n",
      " 2   Custo Entrega       3521 non-null   float64\n",
      " 3   Custo dos Produtos  3521 non-null   float64\n",
      " 4   Custo Marketing     3521 non-null   float64\n",
      "dtypes: float64(3), int64(1), object(1)\n",
      "memory usage: 137.7+ KB\n"
     ]
    }
   ],
   "source": [
    "data.info()"
   ]
  },
  {
   "cell_type": "code",
   "execution_count": 38,
   "metadata": {},
   "outputs": [],
   "source": [
    "def formato(obj):\n",
    "    formatado = \"{:.2f}\".format(obj)\n",
    "    return formatado"
   ]
  },
  {
   "cell_type": "code",
   "execution_count": 39,
   "metadata": {},
   "outputs": [
    {
     "data": {
      "text/html": [
       "<div>\n",
       "<style scoped>\n",
       "    .dataframe tbody tr th:only-of-type {\n",
       "        vertical-align: middle;\n",
       "    }\n",
       "\n",
       "    .dataframe tbody tr th {\n",
       "        vertical-align: top;\n",
       "    }\n",
       "\n",
       "    .dataframe thead th {\n",
       "        text-align: right;\n",
       "    }\n",
       "</style>\n",
       "<table border=\"1\" class=\"dataframe\">\n",
       "  <thead>\n",
       "    <tr style=\"text-align: right;\">\n",
       "      <th></th>\n",
       "      <th>Mês</th>\n",
       "      <th>Categoria</th>\n",
       "      <th>Custo Entrega</th>\n",
       "      <th>Custo dos Produtos</th>\n",
       "      <th>Custo Marketing</th>\n",
       "    </tr>\n",
       "  </thead>\n",
       "  <tbody>\n",
       "    <tr>\n",
       "      <th>0</th>\n",
       "      <td>1</td>\n",
       "      <td>AC AUDIO</td>\n",
       "      <td>80353.50</td>\n",
       "      <td>36247.58</td>\n",
       "      <td>11352.35</td>\n",
       "    </tr>\n",
       "    <tr>\n",
       "      <th>1</th>\n",
       "      <td>1</td>\n",
       "      <td>AC BT SPEAKER</td>\n",
       "      <td>45448.47</td>\n",
       "      <td>82168.28</td>\n",
       "      <td>19423.72</td>\n",
       "    </tr>\n",
       "    <tr>\n",
       "      <th>2</th>\n",
       "      <td>1</td>\n",
       "      <td>AC CALCULADORA</td>\n",
       "      <td>2253.74</td>\n",
       "      <td>3309.12</td>\n",
       "      <td>813.30</td>\n",
       "    </tr>\n",
       "    <tr>\n",
       "      <th>3</th>\n",
       "      <td>1</td>\n",
       "      <td>AC CELULARES</td>\n",
       "      <td>22829.13</td>\n",
       "      <td>18308.66</td>\n",
       "      <td>5471.04</td>\n",
       "    </tr>\n",
       "    <tr>\n",
       "      <th>4</th>\n",
       "      <td>1</td>\n",
       "      <td>AC ELETRODOMESTICO</td>\n",
       "      <td>432.08</td>\n",
       "      <td>76.29</td>\n",
       "      <td>33.11</td>\n",
       "    </tr>\n",
       "  </tbody>\n",
       "</table>\n",
       "</div>"
      ],
      "text/plain": [
       "   Mês           Categoria  Custo Entrega  Custo dos Produtos  Custo Marketing\n",
       "0    1            AC AUDIO       80353.50            36247.58         11352.35\n",
       "1    1       AC BT SPEAKER       45448.47            82168.28         19423.72\n",
       "2    1      AC CALCULADORA        2253.74             3309.12           813.30\n",
       "3    1        AC CELULARES       22829.13            18308.66          5471.04\n",
       "4    1  AC ELETRODOMESTICO         432.08               76.29            33.11"
      ]
     },
     "execution_count": 39,
     "metadata": {},
     "output_type": "execute_result"
    }
   ],
   "source": [
    "data[\"Custo Entrega\"] = data[\"Custo Entrega\"].apply(formato).astype(float)\n",
    "data[\"Custo dos Produtos\"] = data[\"Custo dos Produtos\"].apply(formato).astype(float)\n",
    "data[\"Custo Marketing\"] = data[\"Custo Marketing\"].apply(formato).astype(float)\n",
    "\n",
    "data.head()"
   ]
  },
  {
   "cell_type": "code",
   "execution_count": 40,
   "metadata": {},
   "outputs": [
    {
     "name": "stdout",
     "output_type": "stream",
     "text": [
      "<class 'pandas.core.frame.DataFrame'>\n",
      "RangeIndex: 3521 entries, 0 to 3520\n",
      "Data columns (total 5 columns):\n",
      " #   Column              Non-Null Count  Dtype  \n",
      "---  ------              --------------  -----  \n",
      " 0   Mês                 3521 non-null   int64  \n",
      " 1   Categoria           3521 non-null   object \n",
      " 2   Custo Entrega       3521 non-null   float64\n",
      " 3   Custo dos Produtos  3521 non-null   float64\n",
      " 4   Custo Marketing     3521 non-null   float64\n",
      "dtypes: float64(3), int64(1), object(1)\n",
      "memory usage: 137.7+ KB\n"
     ]
    }
   ],
   "source": [
    "data.info()"
   ]
  },
  {
   "cell_type": "code",
   "execution_count": 41,
   "metadata": {},
   "outputs": [
    {
     "data": {
      "text/html": [
       "<div>\n",
       "<style scoped>\n",
       "    .dataframe tbody tr th:only-of-type {\n",
       "        vertical-align: middle;\n",
       "    }\n",
       "\n",
       "    .dataframe tbody tr th {\n",
       "        vertical-align: top;\n",
       "    }\n",
       "\n",
       "    .dataframe thead th {\n",
       "        text-align: right;\n",
       "    }\n",
       "</style>\n",
       "<table border=\"1\" class=\"dataframe\">\n",
       "  <thead>\n",
       "    <tr style=\"text-align: right;\">\n",
       "      <th></th>\n",
       "      <th>Mês</th>\n",
       "      <th>Categoria</th>\n",
       "      <th>Custo Entrega</th>\n",
       "      <th>Custo dos Produtos</th>\n",
       "      <th>Custo Marketing</th>\n",
       "    </tr>\n",
       "  </thead>\n",
       "  <tbody>\n",
       "    <tr>\n",
       "      <th>3516</th>\n",
       "      <td>9</td>\n",
       "      <td>VIAGEM</td>\n",
       "      <td>1930.53</td>\n",
       "      <td>37.75</td>\n",
       "      <td>10.54</td>\n",
       "    </tr>\n",
       "    <tr>\n",
       "      <th>3517</th>\n",
       "      <td>9</td>\n",
       "      <td>WEARABLES SAMSUNG</td>\n",
       "      <td>27508.44</td>\n",
       "      <td>6713.25</td>\n",
       "      <td>1878.91</td>\n",
       "    </tr>\n",
       "    <tr>\n",
       "      <th>3518</th>\n",
       "      <td>9</td>\n",
       "      <td>WIFI</td>\n",
       "      <td>154397.65</td>\n",
       "      <td>34849.36</td>\n",
       "      <td>6376.27</td>\n",
       "    </tr>\n",
       "    <tr>\n",
       "      <th>3519</th>\n",
       "      <td>9</td>\n",
       "      <td>WIFI 3G</td>\n",
       "      <td>45827.13</td>\n",
       "      <td>5029.09</td>\n",
       "      <td>1210.24</td>\n",
       "    </tr>\n",
       "    <tr>\n",
       "      <th>3520</th>\n",
       "      <td>9</td>\n",
       "      <td>WIFI 4G</td>\n",
       "      <td>44880.86</td>\n",
       "      <td>44497.06</td>\n",
       "      <td>9358.32</td>\n",
       "    </tr>\n",
       "  </tbody>\n",
       "</table>\n",
       "</div>"
      ],
      "text/plain": [
       "      Mês          Categoria  Custo Entrega  Custo dos Produtos  \\\n",
       "3516    9             VIAGEM        1930.53               37.75   \n",
       "3517    9  WEARABLES SAMSUNG       27508.44             6713.25   \n",
       "3518    9               WIFI      154397.65            34849.36   \n",
       "3519    9            WIFI 3G       45827.13             5029.09   \n",
       "3520    9            WIFI 4G       44880.86            44497.06   \n",
       "\n",
       "      Custo Marketing  \n",
       "3516            10.54  \n",
       "3517          1878.91  \n",
       "3518          6376.27  \n",
       "3519          1210.24  \n",
       "3520          9358.32  "
      ]
     },
     "execution_count": 41,
     "metadata": {},
     "output_type": "execute_result"
    }
   ],
   "source": [
    "data.tail()"
   ]
  },
  {
   "cell_type": "code",
   "execution_count": 42,
   "metadata": {},
   "outputs": [],
   "source": [
    "media_Custo_Entrega = data.groupby('Mês')['Custo Entrega'].mean()\n",
    "media_Custo_Produtos = data.groupby('Mês')['Custo dos Produtos'].mean()\n",
    "media_Custo_Marketing = data.groupby('Mês')['Custo Marketing'].mean()\n",
    "\n",
    "\n",
    "dp_Custo_Entrega = data.groupby('Mês')['Custo Entrega'].std()\n",
    "dp_Custo_Produtos = data.groupby('Mês')['Custo dos Produtos'].std()\n",
    "dp_Custo_Marketing = data.groupby('Mês')['Custo Marketing'].std()"
   ]
  },
  {
   "cell_type": "code",
   "execution_count": 43,
   "metadata": {},
   "outputs": [],
   "source": [
    "data_resumo = {\n",
    "    'Media_Custo_Entrega': media_Custo_Entrega,\n",
    "    'Media_Custo_Produtos': media_Custo_Produtos,\n",
    "    'Media_Custo_Marketing': media_Custo_Marketing,\n",
    "    'dp_Custo_Entrega':dp_Custo_Entrega,\n",
    "    'dp_Custo_Produtos': dp_Custo_Produtos,\n",
    "    'dp_Custo_Marketing': dp_Custo_Marketing,\n",
    "\n",
    "}"
   ]
  },
  {
   "cell_type": "code",
   "execution_count": 44,
   "metadata": {},
   "outputs": [
    {
     "data": {
      "text/html": [
       "<div>\n",
       "<style scoped>\n",
       "    .dataframe tbody tr th:only-of-type {\n",
       "        vertical-align: middle;\n",
       "    }\n",
       "\n",
       "    .dataframe tbody tr th {\n",
       "        vertical-align: top;\n",
       "    }\n",
       "\n",
       "    .dataframe thead th {\n",
       "        text-align: right;\n",
       "    }\n",
       "</style>\n",
       "<table border=\"1\" class=\"dataframe\">\n",
       "  <thead>\n",
       "    <tr style=\"text-align: right;\">\n",
       "      <th></th>\n",
       "      <th>Media_Custo_Entrega</th>\n",
       "      <th>Media_Custo_Produtos</th>\n",
       "      <th>Media_Custo_Marketing</th>\n",
       "      <th>dp_Custo_Entrega</th>\n",
       "      <th>dp_Custo_Produtos</th>\n",
       "      <th>dp_Custo_Marketing</th>\n",
       "    </tr>\n",
       "    <tr>\n",
       "      <th>Mês</th>\n",
       "      <th></th>\n",
       "      <th></th>\n",
       "      <th></th>\n",
       "      <th></th>\n",
       "      <th></th>\n",
       "      <th></th>\n",
       "    </tr>\n",
       "  </thead>\n",
       "  <tbody>\n",
       "    <tr>\n",
       "      <th>1</th>\n",
       "      <td>157565.476726</td>\n",
       "      <td>1.330653e+06</td>\n",
       "      <td>356692.157208</td>\n",
       "      <td>1.547800e+06</td>\n",
       "      <td>1.964089e+07</td>\n",
       "      <td>4.990579e+06</td>\n",
       "    </tr>\n",
       "    <tr>\n",
       "      <th>2</th>\n",
       "      <td>152808.491209</td>\n",
       "      <td>1.310278e+06</td>\n",
       "      <td>371407.848564</td>\n",
       "      <td>3.790290e+05</td>\n",
       "      <td>1.150910e+07</td>\n",
       "      <td>3.172498e+06</td>\n",
       "    </tr>\n",
       "    <tr>\n",
       "      <th>3</th>\n",
       "      <td>193785.042152</td>\n",
       "      <td>1.356935e+06</td>\n",
       "      <td>348062.286253</td>\n",
       "      <td>4.879490e+05</td>\n",
       "      <td>8.532848e+06</td>\n",
       "      <td>2.035406e+06</td>\n",
       "    </tr>\n",
       "    <tr>\n",
       "      <th>4</th>\n",
       "      <td>233512.265410</td>\n",
       "      <td>1.367826e+06</td>\n",
       "      <td>340621.450436</td>\n",
       "      <td>7.053690e+05</td>\n",
       "      <td>8.335182e+06</td>\n",
       "      <td>1.982132e+06</td>\n",
       "    </tr>\n",
       "    <tr>\n",
       "      <th>5</th>\n",
       "      <td>260364.771756</td>\n",
       "      <td>1.408626e+06</td>\n",
       "      <td>265745.046412</td>\n",
       "      <td>7.824143e+05</td>\n",
       "      <td>1.472675e+07</td>\n",
       "      <td>2.717987e+06</td>\n",
       "    </tr>\n",
       "    <tr>\n",
       "      <th>6</th>\n",
       "      <td>318971.633204</td>\n",
       "      <td>1.398158e+06</td>\n",
       "      <td>248428.121292</td>\n",
       "      <td>9.890833e+05</td>\n",
       "      <td>1.121389e+07</td>\n",
       "      <td>2.018921e+06</td>\n",
       "    </tr>\n",
       "    <tr>\n",
       "      <th>7</th>\n",
       "      <td>408063.062327</td>\n",
       "      <td>1.326520e+06</td>\n",
       "      <td>235880.853325</td>\n",
       "      <td>4.026117e+06</td>\n",
       "      <td>1.358975e+07</td>\n",
       "      <td>2.084675e+06</td>\n",
       "    </tr>\n",
       "    <tr>\n",
       "      <th>8</th>\n",
       "      <td>454443.888036</td>\n",
       "      <td>1.414887e+06</td>\n",
       "      <td>242543.935452</td>\n",
       "      <td>8.027110e+06</td>\n",
       "      <td>1.700857e+07</td>\n",
       "      <td>3.155619e+06</td>\n",
       "    </tr>\n",
       "    <tr>\n",
       "      <th>9</th>\n",
       "      <td>557535.815349</td>\n",
       "      <td>1.343373e+06</td>\n",
       "      <td>215725.438527</td>\n",
       "      <td>1.478730e+06</td>\n",
       "      <td>2.131037e+07</td>\n",
       "      <td>3.168555e+06</td>\n",
       "    </tr>\n",
       "  </tbody>\n",
       "</table>\n",
       "</div>"
      ],
      "text/plain": [
       "     Media_Custo_Entrega  Media_Custo_Produtos  Media_Custo_Marketing  \\\n",
       "Mês                                                                     \n",
       "1          157565.476726          1.330653e+06          356692.157208   \n",
       "2          152808.491209          1.310278e+06          371407.848564   \n",
       "3          193785.042152          1.356935e+06          348062.286253   \n",
       "4          233512.265410          1.367826e+06          340621.450436   \n",
       "5          260364.771756          1.408626e+06          265745.046412   \n",
       "6          318971.633204          1.398158e+06          248428.121292   \n",
       "7          408063.062327          1.326520e+06          235880.853325   \n",
       "8          454443.888036          1.414887e+06          242543.935452   \n",
       "9          557535.815349          1.343373e+06          215725.438527   \n",
       "\n",
       "     dp_Custo_Entrega  dp_Custo_Produtos  dp_Custo_Marketing  \n",
       "Mês                                                           \n",
       "1        1.547800e+06       1.964089e+07        4.990579e+06  \n",
       "2        3.790290e+05       1.150910e+07        3.172498e+06  \n",
       "3        4.879490e+05       8.532848e+06        2.035406e+06  \n",
       "4        7.053690e+05       8.335182e+06        1.982132e+06  \n",
       "5        7.824143e+05       1.472675e+07        2.717987e+06  \n",
       "6        9.890833e+05       1.121389e+07        2.018921e+06  \n",
       "7        4.026117e+06       1.358975e+07        2.084675e+06  \n",
       "8        8.027110e+06       1.700857e+07        3.155619e+06  \n",
       "9        1.478730e+06       2.131037e+07        3.168555e+06  "
      ]
     },
     "execution_count": 44,
     "metadata": {},
     "output_type": "execute_result"
    }
   ],
   "source": [
    "data2= pd.DataFrame(data_resumo)\n",
    "data2"
   ]
  },
  {
   "cell_type": "code",
   "execution_count": 45,
   "metadata": {},
   "outputs": [
    {
     "data": {
      "image/png": "[encoded data removed]",
      "text/plain": [
       "<Figure size 500x300 with 1 Axes>"
      ]
     },
     "metadata": {},
     "output_type": "display_data"
    }
   ],
   "source": [
    "fig,ax = plt.subplots(figsize=(5, 3))\n",
    "ax.plot(data2.index,data2[\"Media_Custo_Entrega\"],color='r',alpha=.50)\n",
    "ax.plot(data2.index,data2[\"Media_Custo_Produtos\"])\n",
    "ax.plot(data2.index,data2[\"Media_Custo_Marketing\"],color='g',alpha=.50)\n",
    "fig.suptitle(\"Variação dos custos ao longo do ano\")\n",
    "ax.set_xlabel(\"Mês\")\n",
    "ax.grid(False)\n"
   ]
  },
  {
   "cell_type": "code",
   "execution_count": 46,
   "metadata": {},
   "outputs": [],
   "source": [
    "linha_maior_entrega = data.loc[data['Custo Entrega'].idxmax()]\n",
    "segundo_maior_entrega = data.nlargest(2, 'Custo Entrega').iloc[-1]"
   ]
  },
  {
   "cell_type": "code",
   "execution_count": 47,
   "metadata": {},
   "outputs": [
    {
     "data": {
      "image/png": "[encoded data removed]",
      "text/plain": [
       "<Figure size 2000x500 with 3 Axes>"
      ]
     },
     "metadata": {},
     "output_type": "display_data"
    }
   ],
   "source": [
    "fig,ax = plt.subplots(1,3,figsize=(20,5))\n",
    "plt.style.use('_mpl-gallery')\n",
    "ax[0].fill_between(data2.index, media_Custo_Entrega-dp_Custo_Entrega, media_Custo_Entrega+dp_Custo_Entrega, alpha=.5, linewidth=0)\n",
    "ax[0].plot(data2.index,data2[\"Media_Custo_Entrega\"])\n",
    "ax[0].scatter(data[\"Mês\"],data[\"Custo Entrega\"])\n",
    "ax[0].set_ylim(-.2e8, 1.8e8)\n",
    "ax[0].text(8,linha_maior_entrega[\"Custo Entrega\"],linha_maior_entrega[\"Categoria\"])\n",
    "ax[0].text(segundo_maior_entrega[\"Mês\"],segundo_maior_entrega[\"Custo Entrega\"],segundo_maior_entrega[\"Categoria\"])\n",
    "ax[0].set_title(\"Custo de Entrega\")\n",
    "ax[0].grid(False)\n",
    "\n",
    "ax[1].fill_between(data2.index, data2[\"Media_Custo_Produtos\"]-data2[\"dp_Custo_Produtos\"], data2[\"Media_Custo_Produtos\"]+data2[\"dp_Custo_Produtos\"], alpha=.5, linewidth=0,color='r')\n",
    "ax[1].plot(data2.index,data2[\"Media_Custo_Produtos\"],color='r',alpha=.50)\n",
    "ax[1].scatter(data[\"Mês\"],data[\"Custo dos Produtos\"],color='r',alpha=.50)\n",
    "ax[1].set_ylim(-.2e8, 1.8e8)\n",
    "ax[1].set_title(\"Custo de Produtos\")\n",
    "ax[1].grid(False)\n",
    "\n",
    "ax[2].fill_between(data2.index, data2[\"Media_Custo_Marketing\"]-data2[\"dp_Custo_Marketing\"], data2[\"Media_Custo_Produtos\"]+data2[\"dp_Custo_Marketing\"], alpha=.5, color='g')\n",
    "ax[2].plot(data2.index,data2[\"Media_Custo_Marketing\"],color='g',alpha=.50)\n",
    "ax[2].scatter(data[\"Mês\"],data[\"Custo Marketing\"],color='g',alpha=.50)\n",
    "ax[2].set_ylim(-.2e8, 1.8e8)\n",
    "ax[2].set_title(\"Custo de Marketing\")\n",
    "ax[2].grid(False)\n"
   ]
  },
  {
   "cell_type": "code",
   "execution_count": 48,
   "metadata": {},
   "outputs": [
    {
     "data": {
      "text/html": [
       "<div>\n",
       "<style scoped>\n",
       "    .dataframe tbody tr th:only-of-type {\n",
       "        vertical-align: middle;\n",
       "    }\n",
       "\n",
       "    .dataframe tbody tr th {\n",
       "        vertical-align: top;\n",
       "    }\n",
       "\n",
       "    .dataframe thead th {\n",
       "        text-align: right;\n",
       "    }\n",
       "</style>\n",
       "<table border=\"1\" class=\"dataframe\">\n",
       "  <thead>\n",
       "    <tr style=\"text-align: right;\">\n",
       "      <th></th>\n",
       "      <th>Mês</th>\n",
       "      <th>Categoria</th>\n",
       "      <th>Custo Entrega</th>\n",
       "      <th>Custo dos Produtos</th>\n",
       "      <th>Custo Marketing</th>\n",
       "    </tr>\n",
       "  </thead>\n",
       "  <tbody>\n",
       "    <tr>\n",
       "      <th>3112</th>\n",
       "      <td>8</td>\n",
       "      <td>TANQUINHO</td>\n",
       "      <td>1.579374e+08</td>\n",
       "      <td>3.262112e+08</td>\n",
       "      <td>61256346.68</td>\n",
       "    </tr>\n",
       "    <tr>\n",
       "      <th>2485</th>\n",
       "      <td>7</td>\n",
       "      <td>CHURRASCO</td>\n",
       "      <td>7.884671e+07</td>\n",
       "      <td>7.757779e+04</td>\n",
       "      <td>2440369.96</td>\n",
       "    </tr>\n",
       "    <tr>\n",
       "      <th>121</th>\n",
       "      <td>1</td>\n",
       "      <td>CASA CONECTADA</td>\n",
       "      <td>3.054578e+07</td>\n",
       "      <td>2.654726e+04</td>\n",
       "      <td>550147.80</td>\n",
       "    </tr>\n",
       "    <tr>\n",
       "      <th>3472</th>\n",
       "      <td>9</td>\n",
       "      <td>REFRIGERADOR</td>\n",
       "      <td>1.524930e+07</td>\n",
       "      <td>1.112504e+06</td>\n",
       "      <td>330963.78</td>\n",
       "    </tr>\n",
       "    <tr>\n",
       "      <th>2320</th>\n",
       "      <td>6</td>\n",
       "      <td>SMARTPHONE</td>\n",
       "      <td>1.272910e+07</td>\n",
       "      <td>5.951512e+07</td>\n",
       "      <td>9393167.60</td>\n",
       "    </tr>\n",
       "    <tr>\n",
       "      <th>...</th>\n",
       "      <td>...</td>\n",
       "      <td>...</td>\n",
       "      <td>...</td>\n",
       "      <td>...</td>\n",
       "      <td>...</td>\n",
       "    </tr>\n",
       "    <tr>\n",
       "      <th>44</th>\n",
       "      <td>1</td>\n",
       "      <td>ANIMAIS</td>\n",
       "      <td>0.000000e+00</td>\n",
       "      <td>7.300000e-01</td>\n",
       "      <td>0.22</td>\n",
       "    </tr>\n",
       "    <tr>\n",
       "      <th>1134</th>\n",
       "      <td>3</td>\n",
       "      <td>RECEIVER</td>\n",
       "      <td>0.000000e+00</td>\n",
       "      <td>2.689600e+02</td>\n",
       "      <td>75.19</td>\n",
       "    </tr>\n",
       "    <tr>\n",
       "      <th>163</th>\n",
       "      <td>1</td>\n",
       "      <td>CONVERSOR DIGITAL</td>\n",
       "      <td>0.000000e+00</td>\n",
       "      <td>1.250000e+00</td>\n",
       "      <td>0.27</td>\n",
       "    </tr>\n",
       "    <tr>\n",
       "      <th>2751</th>\n",
       "      <td>8</td>\n",
       "      <td>AC ELETRODOMESTICO</td>\n",
       "      <td>0.000000e+00</td>\n",
       "      <td>6.800000e+00</td>\n",
       "      <td>1.31</td>\n",
       "    </tr>\n",
       "    <tr>\n",
       "      <th>180</th>\n",
       "      <td>1</td>\n",
       "      <td>CUIDADOS ESTÉTICOS</td>\n",
       "      <td>0.000000e+00</td>\n",
       "      <td>5.070000e+00</td>\n",
       "      <td>1.51</td>\n",
       "    </tr>\n",
       "  </tbody>\n",
       "</table>\n",
       "<p>3521 rows × 5 columns</p>\n",
       "</div>"
      ],
      "text/plain": [
       "      Mês           Categoria  Custo Entrega  Custo dos Produtos  \\\n",
       "3112    8           TANQUINHO   1.579374e+08        3.262112e+08   \n",
       "2485    7           CHURRASCO   7.884671e+07        7.757779e+04   \n",
       "121     1      CASA CONECTADA   3.054578e+07        2.654726e+04   \n",
       "3472    9        REFRIGERADOR   1.524930e+07        1.112504e+06   \n",
       "2320    6          SMARTPHONE   1.272910e+07        5.951512e+07   \n",
       "...   ...                 ...            ...                 ...   \n",
       "44      1             ANIMAIS   0.000000e+00        7.300000e-01   \n",
       "1134    3            RECEIVER   0.000000e+00        2.689600e+02   \n",
       "163     1   CONVERSOR DIGITAL   0.000000e+00        1.250000e+00   \n",
       "2751    8  AC ELETRODOMESTICO   0.000000e+00        6.800000e+00   \n",
       "180     1  CUIDADOS ESTÉTICOS   0.000000e+00        5.070000e+00   \n",
       "\n",
       "      Custo Marketing  \n",
       "3112      61256346.68  \n",
       "2485       2440369.96  \n",
       "121         550147.80  \n",
       "3472        330963.78  \n",
       "2320       9393167.60  \n",
       "...               ...  \n",
       "44               0.22  \n",
       "1134            75.19  \n",
       "163              0.27  \n",
       "2751             1.31  \n",
       "180              1.51  \n",
       "\n",
       "[3521 rows x 5 columns]"
      ]
     },
     "execution_count": 48,
     "metadata": {},
     "output_type": "execute_result"
    }
   ],
   "source": [
    "data.sort_values(by='Custo Entrega',ascending=False)"
   ]
  },
  {
   "cell_type": "markdown",
   "metadata": {},
   "source": [
    "Considerando que o volume das vendas permaneceu estável durante o perído, a queda gradual na rentabilidade pode ser explicada principalmente pelo aumento dos custos de entrega, visto que os custos de marketing e custos dos produtos permenceram praticamente estáveis ao longo de todo o período. Nos meses 7 e 8, no entanto, podemos notar que houve um aumento considerável, com destaque para as categorias Tanquiho e Churrasco."
   ]
  },
  {
   "cell_type": "code",
   "execution_count": null,
   "metadata": {},
   "outputs": [],
   "source": []
  }
 ],
 "metadata": {
  "kernelspec": {
   "display_name": "base",
   "language": "python",
   "name": "python3"
  },
  "language_info": {
   "codemirror_mode": {
    "name": "ipython",
    "version": 3
   },
   "file_extension": ".py",
   "mimetype": "text/x-python",
   "name": "python",
   "nbconvert_exporter": "python",
   "pygments_lexer": "ipython3",
   "version": "3.12.4"
  }
 },
 "nbformat": 4,
 "nbformat_minor": 2
}
